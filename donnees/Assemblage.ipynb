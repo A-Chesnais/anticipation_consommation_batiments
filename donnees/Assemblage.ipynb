{
 "cells": [
  {
   "cell_type": "markdown",
   "metadata": {
    "toc": true
   },
   "source": [
    "<h1>Table of Contents<span class=\"tocSkip\"></span></h1>\n",
    "<div class=\"toc\"><ul class=\"toc-item\"><li><span><a href=\"#Création-de-l'excel-de-gestion-des-variables\" data-toc-modified-id=\"Création-de-l'excel-de-gestion-des-variables-1\"><span class=\"toc-item-num\">1&nbsp;&nbsp;</span>Création de l'excel de gestion des variables</a></span></li><li><span><a href=\"#Assemblage-des-datasets\" data-toc-modified-id=\"Assemblage-des-datasets-2\"><span class=\"toc-item-num\">2&nbsp;&nbsp;</span>Assemblage des datasets</a></span><ul class=\"toc-item\"><li><span><a href=\"#Modifications-du-set-de-2015\" data-toc-modified-id=\"Modifications-du-set-de-2015-2.1\"><span class=\"toc-item-num\">2.1&nbsp;&nbsp;</span>Modifications du set de 2015</a></span></li><li><span><a href=\"#Modifications-du-set-de-2016\" data-toc-modified-id=\"Modifications-du-set-de-2016-2.2\"><span class=\"toc-item-num\">2.2&nbsp;&nbsp;</span>Modifications du set de 2016</a></span></li><li><span><a href=\"#Vérification-de-la-cohérence-des-noms-de-variables-:\" data-toc-modified-id=\"Vérification-de-la-cohérence-des-noms-de-variables-:-2.3\"><span class=\"toc-item-num\">2.3&nbsp;&nbsp;</span>Vérification de la cohérence des noms de variables :</a></span></li><li><span><a href=\"#Assemblage-et-enregistrement-du-dataset-global\" data-toc-modified-id=\"Assemblage-et-enregistrement-du-dataset-global-2.4\"><span class=\"toc-item-num\">2.4&nbsp;&nbsp;</span>Assemblage et enregistrement du dataset global</a></span></li></ul></li></ul></div>"
   ]
  },
  {
   "cell_type": "code",
   "execution_count": 104,
   "metadata": {},
   "outputs": [],
   "source": [
    "import pandas as pd\n",
    "import matplotlib.pyplot as plt\n",
    "import seaborn as sns\n",
    "import numpy as np\n",
    "import ast"
   ]
  },
  {
   "cell_type": "code",
   "execution_count": 105,
   "metadata": {},
   "outputs": [],
   "source": [
    "data_2016 = pd.read_csv('2016-building-energy-benchmarking.csv')\n",
    "data_2015 = pd.read_csv('2015-building-energy-benchmarking.csv')"
   ]
  },
  {
   "cell_type": "markdown",
   "metadata": {},
   "source": [
    "# Création de l'excel de gestion des variables"
   ]
  },
  {
   "cell_type": "code",
   "execution_count": 106,
   "metadata": {
    "scrolled": true
   },
   "outputs": [
    {
     "name": "stdout",
     "output_type": "stream",
     "text": [
      "                                                 name  year_x  year_y\n",
      "0                                       OSEBuildingID  2016.0  2015.0\n",
      "1                                            DataYear  2016.0  2015.0\n",
      "2                                        BuildingType  2016.0  2015.0\n",
      "3                                 PrimaryPropertyType  2016.0  2015.0\n",
      "4                                        PropertyName  2016.0  2015.0\n",
      "5                                             Address  2016.0     NaN\n",
      "6                                                City  2016.0     NaN\n",
      "7                                               State  2016.0     NaN\n",
      "8                                             ZipCode  2016.0     NaN\n",
      "9                       TaxParcelIdentificationNumber  2016.0  2015.0\n",
      "10                                CouncilDistrictCode  2016.0  2015.0\n",
      "11                                       Neighborhood  2016.0  2015.0\n",
      "12                                           Latitude  2016.0     NaN\n",
      "13                                          Longitude  2016.0     NaN\n",
      "14                                          YearBuilt  2016.0  2015.0\n",
      "15                                  NumberofBuildings  2016.0  2015.0\n",
      "16                                     NumberofFloors  2016.0  2015.0\n",
      "17                                   PropertyGFATotal  2016.0  2015.0\n",
      "18                                 PropertyGFAParking  2016.0  2015.0\n",
      "19                             PropertyGFABuilding(s)  2016.0  2015.0\n",
      "20                          ListOfAllPropertyUseTypes  2016.0  2015.0\n",
      "21                             LargestPropertyUseType  2016.0  2015.0\n",
      "22                          LargestPropertyUseTypeGFA  2016.0  2015.0\n",
      "23                       SecondLargestPropertyUseType  2016.0  2015.0\n",
      "24                    SecondLargestPropertyUseTypeGFA  2016.0  2015.0\n",
      "25                        ThirdLargestPropertyUseType  2016.0  2015.0\n",
      "26                     ThirdLargestPropertyUseTypeGFA  2016.0  2015.0\n",
      "27                           YearsENERGYSTARCertified  2016.0  2015.0\n",
      "28                                    ENERGYSTARScore  2016.0  2015.0\n",
      "29                                   SiteEUI(kBtu/sf)  2016.0  2015.0\n",
      "30                                 SiteEUIWN(kBtu/sf)  2016.0  2015.0\n",
      "31                                 SourceEUI(kBtu/sf)  2016.0  2015.0\n",
      "32                               SourceEUIWN(kBtu/sf)  2016.0  2015.0\n",
      "33                                SiteEnergyUse(kBtu)  2016.0  2015.0\n",
      "34                              SiteEnergyUseWN(kBtu)  2016.0  2015.0\n",
      "35                                     SteamUse(kBtu)  2016.0  2015.0\n",
      "36                                   Electricity(kWh)  2016.0  2015.0\n",
      "37                                  Electricity(kBtu)  2016.0  2015.0\n",
      "38                                 NaturalGas(therms)  2016.0  2015.0\n",
      "39                                   NaturalGas(kBtu)  2016.0  2015.0\n",
      "40                                        DefaultData  2016.0  2015.0\n",
      "41                                           Comments  2016.0     NaN\n",
      "42                                   ComplianceStatus  2016.0  2015.0\n",
      "43                                            Outlier  2016.0  2015.0\n",
      "44                                  TotalGHGEmissions  2016.0     NaN\n",
      "45                              GHGEmissionsIntensity  2016.0     NaN\n",
      "46                                           Location     NaN  2015.0\n",
      "47                                 OtherFuelUse(kBtu)     NaN  2015.0\n",
      "48                       GHGEmissions(MetricTonsCO2e)     NaN  2015.0\n",
      "49                  GHGEmissionsIntensity(kgCO2e/ft2)     NaN  2015.0\n",
      "50                                            Comment     NaN  2015.0\n",
      "51                                 2010 Census Tracts     NaN  2015.0\n",
      "52  Seattle Police Department Micro Community Poli...     NaN  2015.0\n",
      "53                             City Council Districts     NaN  2015.0\n",
      "54                                          SPD Beats     NaN  2015.0\n",
      "55                                          Zip Codes     NaN  2015.0\n"
     ]
    }
   ],
   "source": [
    "variables_2016 = pd.DataFrame(data_2016.columns.values)\n",
    "variables_2016['year'] = 2016\n",
    "variables_2016.columns = ['name', 'year']\n",
    "variables_2015 = pd.DataFrame(data_2015.columns.values)\n",
    "variables_2015['year'] = 2015\n",
    "variables_2015.columns = ['name', 'year']\n",
    "variables = variables_2016.merge(variables_2015, how='outer', on='name')\n",
    "print(variables)\n",
    "variables.to_csv('gestion_variables.csv')"
   ]
  },
  {
   "cell_type": "markdown",
   "metadata": {},
   "source": [
    "# Assemblage des datasets"
   ]
  },
  {
   "cell_type": "markdown",
   "metadata": {},
   "source": [
    "## Modifications du set de 2015"
   ]
  },
  {
   "cell_type": "markdown",
   "metadata": {},
   "source": [
    "### Variable 'Location'  :"
   ]
  },
  {
   "cell_type": "code",
   "execution_count": 107,
   "metadata": {},
   "outputs": [],
   "source": [
    "data_2015['Location'] = data_2015['Location'].apply(lambda x: ast.literal_eval(x))"
   ]
  },
  {
   "cell_type": "code",
   "execution_count": 108,
   "metadata": {
    "scrolled": true
   },
   "outputs": [
    {
     "name": "stdout",
     "output_type": "stream",
     "text": [
      "{'human_address': '{\"address\": \"405 OLIVE WAY\", \"city\": \"SEATTLE\", \"state\": \"WA\", \"zip\": \"98101\"}', 'longitude': '-122.33799744', 'latitude': '47.61219025'}\n"
     ]
    }
   ],
   "source": [
    "print(data_2015['Location'][0])"
   ]
  },
  {
   "cell_type": "code",
   "execution_count": 109,
   "metadata": {
    "scrolled": false
   },
   "outputs": [
    {
     "name": "stdout",
     "output_type": "stream",
     "text": [
      "<class 'str'>\n"
     ]
    }
   ],
   "source": [
    "print(type(data_2015['Location'][0]['human_address']))"
   ]
  },
  {
   "cell_type": "code",
   "execution_count": 110,
   "metadata": {},
   "outputs": [
    {
     "name": "stdout",
     "output_type": "stream",
     "text": [
      "{'address': '405 OLIVE WAY', 'city': 'SEATTLE', 'state': 'WA', 'zip': '98101'}\n"
     ]
    }
   ],
   "source": [
    "tempo = data_2015['Location'].apply(lambda x: ast.literal_eval(x['human_address']))\n",
    "print(tempo[0])"
   ]
  },
  {
   "cell_type": "markdown",
   "metadata": {},
   "source": [
    "Création des nouvelles variables de localisation :"
   ]
  },
  {
   "cell_type": "code",
   "execution_count": 111,
   "metadata": {},
   "outputs": [],
   "source": [
    "data_2015['Address'] = tempo.apply(lambda x: x['address'])\n",
    "data_2015['City'] = tempo.apply(lambda x: x['city'])\n",
    "data_2015['State'] = tempo.apply(lambda x: x['state'])\n",
    "data_2015['ZipCode'] = tempo.apply(lambda x: x['zip'])\n",
    "data_2015['Latitude'] = data_2015['Location'].apply(lambda x: x['latitude'])\n",
    "data_2015['Longitude'] = data_2015['Location'].apply(lambda x: x['longitude'])"
   ]
  },
  {
   "cell_type": "markdown",
   "metadata": {},
   "source": [
    "Retrait des anciennes variables de localisation :"
   ]
  },
  {
   "cell_type": "code",
   "execution_count": 112,
   "metadata": {},
   "outputs": [],
   "source": [
    "data_2015.drop('Location', axis=1, inplace=True)"
   ]
  },
  {
   "cell_type": "markdown",
   "metadata": {},
   "source": [
    "### Variables à retirer :"
   ]
  },
  {
   "cell_type": "code",
   "execution_count": 113,
   "metadata": {},
   "outputs": [],
   "source": [
    "var_a_sup = ['Seattle Police Department Micro Community Policing Plan Areas',\n",
    "            'City Council Districts', 'SPD Beats', 'Zip Codes', '2010 Census Tracts']\n",
    "data_2015.drop(var_a_sup, axis=1, inplace=True)"
   ]
  },
  {
   "cell_type": "markdown",
   "metadata": {},
   "source": [
    "### Variables à renommer :"
   ]
  },
  {
   "cell_type": "code",
   "execution_count": 114,
   "metadata": {},
   "outputs": [],
   "source": [
    "data_2015.rename(columns={'Comment':'Comments'}, inplace=True)"
   ]
  },
  {
   "cell_type": "markdown",
   "metadata": {},
   "source": [
    "## Modifications du set de 2016"
   ]
  },
  {
   "cell_type": "markdown",
   "metadata": {},
   "source": [
    "### Variables à renommer :"
   ]
  },
  {
   "cell_type": "code",
   "execution_count": 115,
   "metadata": {},
   "outputs": [],
   "source": [
    "data_2016.rename(columns={'TotalGHGEmissions':'GHGEmissions(MetricTonsCO2e)', \n",
    "                             'GHGEmissionsIntensity':'GHGEmissionsIntensity(kgCO2e/ft2)'},\n",
    "                     inplace=True)"
   ]
  },
  {
   "cell_type": "markdown",
   "metadata": {},
   "source": [
    "### Variables à ajouter  :"
   ]
  },
  {
   "cell_type": "code",
   "execution_count": 116,
   "metadata": {},
   "outputs": [],
   "source": [
    "data_2016['OtherFuelUse(kBtu)'] = 0"
   ]
  },
  {
   "cell_type": "markdown",
   "metadata": {},
   "source": [
    "## Vérification de la cohérence des noms de variables :"
   ]
  },
  {
   "cell_type": "code",
   "execution_count": 117,
   "metadata": {},
   "outputs": [
    {
     "name": "stdout",
     "output_type": "stream",
     "text": [
      "                                 name  year_x  year_y\n",
      "0                       OSEBuildingID    2016    2015\n",
      "1                            DataYear    2016    2015\n",
      "2                        BuildingType    2016    2015\n",
      "3                 PrimaryPropertyType    2016    2015\n",
      "4                        PropertyName    2016    2015\n",
      "5                             Address    2016    2015\n",
      "6                                City    2016    2015\n",
      "7                               State    2016    2015\n",
      "8                             ZipCode    2016    2015\n",
      "9       TaxParcelIdentificationNumber    2016    2015\n",
      "10                CouncilDistrictCode    2016    2015\n",
      "11                       Neighborhood    2016    2015\n",
      "12                           Latitude    2016    2015\n",
      "13                          Longitude    2016    2015\n",
      "14                          YearBuilt    2016    2015\n",
      "15                  NumberofBuildings    2016    2015\n",
      "16                     NumberofFloors    2016    2015\n",
      "17                   PropertyGFATotal    2016    2015\n",
      "18                 PropertyGFAParking    2016    2015\n",
      "19             PropertyGFABuilding(s)    2016    2015\n",
      "20          ListOfAllPropertyUseTypes    2016    2015\n",
      "21             LargestPropertyUseType    2016    2015\n",
      "22          LargestPropertyUseTypeGFA    2016    2015\n",
      "23       SecondLargestPropertyUseType    2016    2015\n",
      "24    SecondLargestPropertyUseTypeGFA    2016    2015\n",
      "25        ThirdLargestPropertyUseType    2016    2015\n",
      "26     ThirdLargestPropertyUseTypeGFA    2016    2015\n",
      "27           YearsENERGYSTARCertified    2016    2015\n",
      "28                    ENERGYSTARScore    2016    2015\n",
      "29                   SiteEUI(kBtu/sf)    2016    2015\n",
      "30                 SiteEUIWN(kBtu/sf)    2016    2015\n",
      "31                 SourceEUI(kBtu/sf)    2016    2015\n",
      "32               SourceEUIWN(kBtu/sf)    2016    2015\n",
      "33                SiteEnergyUse(kBtu)    2016    2015\n",
      "34              SiteEnergyUseWN(kBtu)    2016    2015\n",
      "35                     SteamUse(kBtu)    2016    2015\n",
      "36                   Electricity(kWh)    2016    2015\n",
      "37                  Electricity(kBtu)    2016    2015\n",
      "38                 NaturalGas(therms)    2016    2015\n",
      "39                   NaturalGas(kBtu)    2016    2015\n",
      "40                        DefaultData    2016    2015\n",
      "41                           Comments    2016    2015\n",
      "42                   ComplianceStatus    2016    2015\n",
      "43                            Outlier    2016    2015\n",
      "44       GHGEmissions(MetricTonsCO2e)    2016    2015\n",
      "45  GHGEmissionsIntensity(kgCO2e/ft2)    2016    2015\n",
      "46                 OtherFuelUse(kBtu)    2016    2015\n"
     ]
    }
   ],
   "source": [
    "variables_2016 = pd.DataFrame(data_2016.columns.values)\n",
    "variables_2016['year'] = 2016\n",
    "variables_2016.columns = ['name', 'year']\n",
    "variables_2015 = pd.DataFrame(data_2015.columns.values)\n",
    "variables_2015['year'] = 2015\n",
    "variables_2015.columns = ['name', 'year']\n",
    "variables = variables_2016.merge(variables_2015, how='outer', on='name')\n",
    "print(variables)"
   ]
  },
  {
   "cell_type": "markdown",
   "metadata": {},
   "source": [
    "## Assemblage et enregistrement du dataset global"
   ]
  },
  {
   "cell_type": "code",
   "execution_count": 118,
   "metadata": {},
   "outputs": [],
   "source": [
    "data_vf = data_2015.append(data_2016, sort='True')\n",
    "data_vf = data_vf.apply(lambda x: x.astype(str).str.lower())"
   ]
  },
  {
   "cell_type": "code",
   "execution_count": 119,
   "metadata": {},
   "outputs": [],
   "source": [
    "data_vf.to_csv('Dataset.csv', index=False)"
   ]
  },
  {
   "cell_type": "code",
   "execution_count": null,
   "metadata": {},
   "outputs": [],
   "source": []
  }
 ],
 "metadata": {
  "hide_input": false,
  "kernelspec": {
   "display_name": "Python 3",
   "language": "python",
   "name": "python3"
  },
  "language_info": {
   "codemirror_mode": {
    "name": "ipython",
    "version": 3
   },
   "file_extension": ".py",
   "mimetype": "text/x-python",
   "name": "python",
   "nbconvert_exporter": "python",
   "pygments_lexer": "ipython3",
   "version": "3.7.3"
  },
  "toc": {
   "base_numbering": 1,
   "nav_menu": {},
   "number_sections": true,
   "sideBar": true,
   "skip_h1_title": false,
   "title_cell": "Table of Contents",
   "title_sidebar": "Contents",
   "toc_cell": true,
   "toc_position": {},
   "toc_section_display": true,
   "toc_window_display": false
  }
 },
 "nbformat": 4,
 "nbformat_minor": 2
}
